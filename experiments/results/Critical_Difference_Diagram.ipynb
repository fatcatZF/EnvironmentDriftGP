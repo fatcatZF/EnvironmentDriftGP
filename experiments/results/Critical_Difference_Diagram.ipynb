{
  "nbformat": 4,
  "nbformat_minor": 0,
  "metadata": {
    "colab": {
      "provenance": []
    },
    "kernelspec": {
      "name": "python3",
      "display_name": "Python 3"
    },
    "language_info": {
      "name": "python"
    }
  },
  "cells": [
    {
      "cell_type": "code",
      "source": [
        "!pip install scikit-posthocs"
      ],
      "metadata": {
        "colab": {
          "base_uri": "https://localhost:8080/"
        },
        "id": "8wFBjYQIKv6v",
        "outputId": "9bd10db5-274f-4678-e64d-fec31e1ab104"
      },
      "execution_count": null,
      "outputs": [
        {
          "output_type": "stream",
          "name": "stdout",
          "text": [
            "Collecting scikit-posthocs\n",
            "  Downloading scikit_posthocs-0.9.0-py3-none-any.whl (32 kB)\n",
            "Requirement already satisfied: numpy in /usr/local/lib/python3.10/dist-packages (from scikit-posthocs) (1.25.2)\n",
            "Requirement already satisfied: scipy>=1.9.0 in /usr/local/lib/python3.10/dist-packages (from scikit-posthocs) (1.11.4)\n",
            "Requirement already satisfied: statsmodels in /usr/local/lib/python3.10/dist-packages (from scikit-posthocs) (0.14.2)\n",
            "Requirement already satisfied: pandas>=0.20.0 in /usr/local/lib/python3.10/dist-packages (from scikit-posthocs) (2.0.3)\n",
            "Requirement already satisfied: seaborn in /usr/local/lib/python3.10/dist-packages (from scikit-posthocs) (0.13.1)\n",
            "Requirement already satisfied: matplotlib in /usr/local/lib/python3.10/dist-packages (from scikit-posthocs) (3.7.1)\n",
            "Requirement already satisfied: python-dateutil>=2.8.2 in /usr/local/lib/python3.10/dist-packages (from pandas>=0.20.0->scikit-posthocs) (2.8.2)\n",
            "Requirement already satisfied: pytz>=2020.1 in /usr/local/lib/python3.10/dist-packages (from pandas>=0.20.0->scikit-posthocs) (2023.4)\n",
            "Requirement already satisfied: tzdata>=2022.1 in /usr/local/lib/python3.10/dist-packages (from pandas>=0.20.0->scikit-posthocs) (2024.1)\n",
            "Requirement already satisfied: contourpy>=1.0.1 in /usr/local/lib/python3.10/dist-packages (from matplotlib->scikit-posthocs) (1.2.1)\n",
            "Requirement already satisfied: cycler>=0.10 in /usr/local/lib/python3.10/dist-packages (from matplotlib->scikit-posthocs) (0.12.1)\n",
            "Requirement already satisfied: fonttools>=4.22.0 in /usr/local/lib/python3.10/dist-packages (from matplotlib->scikit-posthocs) (4.53.1)\n",
            "Requirement already satisfied: kiwisolver>=1.0.1 in /usr/local/lib/python3.10/dist-packages (from matplotlib->scikit-posthocs) (1.4.5)\n",
            "Requirement already satisfied: packaging>=20.0 in /usr/local/lib/python3.10/dist-packages (from matplotlib->scikit-posthocs) (24.1)\n",
            "Requirement already satisfied: pillow>=6.2.0 in /usr/local/lib/python3.10/dist-packages (from matplotlib->scikit-posthocs) (9.4.0)\n",
            "Requirement already satisfied: pyparsing>=2.3.1 in /usr/local/lib/python3.10/dist-packages (from matplotlib->scikit-posthocs) (3.1.2)\n",
            "Requirement already satisfied: patsy>=0.5.6 in /usr/local/lib/python3.10/dist-packages (from statsmodels->scikit-posthocs) (0.5.6)\n",
            "Requirement already satisfied: six in /usr/local/lib/python3.10/dist-packages (from patsy>=0.5.6->statsmodels->scikit-posthocs) (1.16.0)\n",
            "Installing collected packages: scikit-posthocs\n",
            "Successfully installed scikit-posthocs-0.9.0\n"
          ]
        }
      ]
    },
    {
      "cell_type": "code",
      "source": [
        "import pandas as pd\n",
        "import numpy as np\n",
        "import scikit_posthocs as sp\n",
        "from scipy.stats import friedmanchisquare\n",
        "\n",
        "import matplotlib.pyplot as plt"
      ],
      "metadata": {
        "id": "lnmS2dhDKi1P"
      },
      "execution_count": null,
      "outputs": []
    },
    {
      "cell_type": "code",
      "source": [
        "excel_file_path = \"./EnvironmentDriftNormalizedScore.xlsx\""
      ],
      "metadata": {
        "id": "FDMB914pIaWn"
      },
      "execution_count": null,
      "outputs": []
    },
    {
      "cell_type": "code",
      "source": [
        "df = pd.read_excel(excel_file_path, sheet_name=\"Sheet1\", usecols=\"B:E\")\n",
        "columns = {\"ActionPredictor\":\"GPAction\",\n",
        "           \"StatePredictor\":\"GPState\",\n",
        "           \"AverageStepRewards(100)\": \"AveStepRew-100\",\n",
        "           \"AverageStepRewards(200)\": \"AveStepRew-200\"}\n",
        "\n",
        "df = df.rename(columns=columns)"
      ],
      "metadata": {
        "id": "2pTql0cwIlqw"
      },
      "execution_count": null,
      "outputs": []
    },
    {
      "cell_type": "code",
      "source": [
        "print(df.head())"
      ],
      "metadata": {
        "colab": {
          "base_uri": "https://localhost:8080/"
        },
        "id": "JYlEx4agIyW_",
        "outputId": "1105ff6a-6a40-4603-a4bc-552788261275"
      },
      "execution_count": null,
      "outputs": [
        {
          "output_type": "stream",
          "name": "stdout",
          "text": [
            "   GPAction   GPState  AveStepRew-100  AveStepRew-200\n",
            "0 -0.548158 -0.650856       -0.340954        0.362668\n",
            "1 -0.651486 -0.582601       -0.431182       -0.392416\n",
            "2 -0.651486 -0.341501        1.018158       -0.104451\n",
            "3 -0.616413 -0.617044       -0.256405        0.884742\n",
            "4 -0.548158 -0.617044        0.122330        0.022153\n"
          ]
        }
      ]
    },
    {
      "cell_type": "code",
      "source": [],
      "metadata": {
        "id": "v-kPx70CI7z9"
      },
      "execution_count": null,
      "outputs": []
    },
    {
      "cell_type": "code",
      "source": [],
      "metadata": {
        "id": "qhoK2F3cNWe-"
      },
      "execution_count": null,
      "outputs": []
    },
    {
      "cell_type": "code",
      "source": [
        "import scikit_posthocs as sp"
      ],
      "metadata": {
        "id": "GQrOFAICPUo5"
      },
      "execution_count": null,
      "outputs": []
    },
    {
      "cell_type": "code",
      "source": [
        "from scipy.stats import friedmanchisquare\n",
        "stat, p = friedmanchisquare(*df.T.values)\n",
        "print('Friedman test statistics:', stat, 'P-value:', p)"
      ],
      "metadata": {
        "colab": {
          "base_uri": "https://localhost:8080/"
        },
        "id": "yeK2hpuDOz8k",
        "outputId": "dd9c2cfe-33ff-4a80-8eeb-91a3b73f0db2"
      },
      "execution_count": null,
      "outputs": [
        {
          "output_type": "stream",
          "name": "stdout",
          "text": [
            "Friedman test statistics: 633.9322709163349 P-value: 4.436100521199758e-137\n"
          ]
        }
      ]
    },
    {
      "cell_type": "code",
      "source": [
        "# Perform Nemenyi test\n",
        "pc = sp.posthoc_nemenyi_friedman(df)\n",
        "print(pc)"
      ],
      "metadata": {
        "colab": {
          "base_uri": "https://localhost:8080/"
        },
        "id": "nWHeQuZqPCy0",
        "outputId": "073d5583-2346-436d-c30c-19136cdcc9a7"
      },
      "execution_count": null,
      "outputs": [
        {
          "output_type": "stream",
          "name": "stdout",
          "text": [
            "                GPAction  GPState  AveStepRew-100  AveStepRew-200\n",
            "GPAction           1.000    0.001        0.001000        0.001000\n",
            "GPState            0.001    1.000        0.001000        0.001000\n",
            "AveStepRew-100     0.001    0.001        1.000000        0.261569\n",
            "AveStepRew-200     0.001    0.001        0.261569        1.000000\n"
          ]
        }
      ]
    },
    {
      "cell_type": "code",
      "source": [],
      "metadata": {
        "id": "HHfWGTeGPIaU"
      },
      "execution_count": null,
      "outputs": []
    },
    {
      "cell_type": "code",
      "source": [
        "# Plotting the results (heatmap of p-values)\n",
        "plt.figure(figsize=(5, 5))\n",
        "sp.sign_plot(pc)\n",
        "plt.show()"
      ],
      "metadata": {
        "colab": {
          "base_uri": "https://localhost:8080/",
          "height": 548
        },
        "id": "M6vPzZh1P7-i",
        "outputId": "0d660a65-142a-4c35-d377-755ff8ed8c17"
      },
      "execution_count": null,
      "outputs": [
        {
          "output_type": "display_data",
          "data": {
            "text/plain": [
              "<Figure size 500x500 with 2 Axes>"
            ],
            "image/png": "[encoded data removed]"
          },
          "metadata": {}
        }
      ]
    },
    {
      "cell_type": "code",
      "source": [
        "ranks = df.rank(ascending=True, axis=1, method=\"average\")\n",
        "avg_ranks = ranks.mean()"
      ],
      "metadata": {
        "id": "a5YYRW5MQmGJ"
      },
      "execution_count": null,
      "outputs": []
    },
    {
      "cell_type": "code",
      "source": [
        "avg_ranks"
      ],
      "metadata": {
        "colab": {
          "base_uri": "https://localhost:8080/"
        },
        "id": "Eu-hP6-ZRiYf",
        "outputId": "dfce6e10-6a5d-4706-df0c-b1d6ea4e7006"
      },
      "execution_count": null,
      "outputs": [
        {
          "output_type": "execute_result",
          "data": {
            "text/plain": [
              "GPAction          1.391667\n",
              "GPState           2.270833\n",
              "AveStepRew-100    3.244792\n",
              "AveStepRew-200    3.092708\n",
              "dtype: float64"
            ]
          },
          "metadata": {},
          "execution_count": 40
        }
      ]
    },
    {
      "cell_type": "code",
      "source": [
        "plt.figure(figsize=(5, 2))\n",
        "plt.title(\"Critical Difference Diagram of Normalized Score\")\n",
        "sp.critical_difference_diagram(avg_ranks, pc,\n",
        "                               color_palette={\"GPAction\":\"blue\",\n",
        "                                              \"GPState\": \"green\",\n",
        "                                              \"AveStepRew-100\":\"orange\",\n",
        "                                              \"AveStepRew-200\":\"red\"})\n",
        "plt.savefig('cd_diagram_ns.png', format='png', dpi=300, bbox_inches='tight')\n",
        "plt.show()"
      ],
      "metadata": {
        "id": "_PBvNR-J0O4e",
        "colab": {
          "base_uri": "https://localhost:8080/",
          "height": 230
        },
        "outputId": "63b94172-9ad7-48ba-9f53-a1dddcd81115"
      },
      "execution_count": null,
      "outputs": [
        {
          "output_type": "display_data",
          "data": {
            "text/plain": [
              "<Figure size 500x200 with 1 Axes>"
            ],
            "image/png": "[encoded data removed]"
          },
          "metadata": {}
        }
      ]
    },
    {
      "cell_type": "code",
      "source": [],
      "metadata": {
        "id": "2eVaKxBOQSo3"
      },
      "execution_count": null,
      "outputs": []
    },
    {
      "cell_type": "code",
      "source": [],
      "metadata": {
        "id": "D-3qGuswVBmx"
      },
      "execution_count": null,
      "outputs": []
    }
  ]
}
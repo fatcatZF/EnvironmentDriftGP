{
  "nbformat": 4,
  "nbformat_minor": 0,
  "metadata": {
    "colab": {
      "provenance": []
    },
    "kernelspec": {
      "name": "python3",
      "display_name": "Python 3"
    },
    "language_info": {
      "name": "python"
    },
    "widgets": {
      "application/vnd.jupyter.widget-state+json": {
        "37f9d94327fd491b93a97580b0695cd4": {
          "model_module": "@jupyter-widgets/controls",
          "model_name": "HBoxModel",
          "model_module_version": "1.5.0",
          "state": {
            "_dom_classes": [],
            "_model_module": "@jupyter-widgets/controls",
            "_model_module_version": "1.5.0",
            "_model_name": "HBoxModel",
            "_view_count": null,
            "_view_module": "@jupyter-widgets/controls",
            "_view_module_version": "1.5.0",
            "_view_name": "HBoxView",
            "box_style": "",
            "children": [
              "IPY_MODEL_5474f176e82a4c70aab12f68c6aceac8",
              "IPY_MODEL_aaf6f3da33ed4d23aa7618c5034ed110",
              "IPY_MODEL_526df9334bc2462da7bb2eede36911dc"
            ],
            "layout": "IPY_MODEL_6b4b9bbc6b6c42638c599fe9ca4cb321"
          }
        },
        "5474f176e82a4c70aab12f68c6aceac8": {
          "model_module": "@jupyter-widgets/controls",
          "model_name": "HTMLModel",
          "model_module_version": "1.5.0",
          "state": {
            "_dom_classes": [],
            "_model_module": "@jupyter-widgets/controls",
            "_model_module_version": "1.5.0",
            "_model_name": "HTMLModel",
            "_view_count": null,
            "_view_module": "@jupyter-widgets/controls",
            "_view_module_version": "1.5.0",
            "_view_name": "HTMLView",
            "description": "",
            "description_tooltip": null,
            "layout": "IPY_MODEL_0a54bf04528c469691d6b5046128d290",
            "placeholder": "​",
            "style": "IPY_MODEL_e0a510e3c65e4fcdab9a0ee0cf4515ff",
            "value": "sac-Pendulum-v1.zip: 100%"
          }
        },
        "aaf6f3da33ed4d23aa7618c5034ed110": {
          "model_module": "@jupyter-widgets/controls",
          "model_name": "FloatProgressModel",
          "model_module_version": "1.5.0",
          "state": {
            "_dom_classes": [],
            "_model_module": "@jupyter-widgets/controls",
            "_model_module_version": "1.5.0",
            "_model_name": "FloatProgressModel",
            "_view_count": null,
            "_view_module": "@jupyter-widgets/controls",
            "_view_module_version": "1.5.0",
            "_view_name": "ProgressView",
            "bar_style": "success",
            "description": "",
            "description_tooltip": null,
            "layout": "IPY_MODEL_4aaabc9daeed4d4e9a34b5ba25b3d5bd",
            "max": 3005853,
            "min": 0,
            "orientation": "horizontal",
            "style": "IPY_MODEL_4978887875fe4b0ab456dc57216ba462",
            "value": 3005853
          }
        },
        "526df9334bc2462da7bb2eede36911dc": {
          "model_module": "@jupyter-widgets/controls",
          "model_name": "HTMLModel",
          "model_module_version": "1.5.0",
          "state": {
            "_dom_classes": [],
            "_model_module": "@jupyter-widgets/controls",
            "_model_module_version": "1.5.0",
            "_model_name": "HTMLModel",
            "_view_count": null,
            "_view_module": "@jupyter-widgets/controls",
            "_view_module_version": "1.5.0",
            "_view_name": "HTMLView",
            "description": "",
            "description_tooltip": null,
            "layout": "IPY_MODEL_d0c2e8f38e95473d83a0f9a1d370a597",
            "placeholder": "​",
            "style": "IPY_MODEL_6327d728a25b43cfa19830b3a79543b0",
            "value": " 3.01M/3.01M [00:01&lt;00:00, 2.51MB/s]"
          }
        },
        "6b4b9bbc6b6c42638c599fe9ca4cb321": {
          "model_module": "@jupyter-widgets/base",
          "model_name": "LayoutModel",
          "model_module_version": "1.2.0",
          "state": {
            "_model_module": "@jupyter-widgets/base",
            "_model_module_version": "1.2.0",
            "_model_name": "LayoutModel",
            "_view_count": null,
            "_view_module": "@jupyter-widgets/base",
            "_view_module_version": "1.2.0",
            "_view_name": "LayoutView",
            "align_content": null,
            "align_items": null,
            "align_self": null,
            "border": null,
            "bottom": null,
            "display": null,
            "flex": null,
            "flex_flow": null,
            "grid_area": null,
            "grid_auto_columns": null,
            "grid_auto_flow": null,
            "grid_auto_rows": null,
            "grid_column": null,
            "grid_gap": null,
            "grid_row": null,
            "grid_template_areas": null,
            "grid_template_columns": null,
            "grid_template_rows": null,
            "height": null,
            "justify_content": null,
            "justify_items": null,
            "left": null,
            "margin": null,
            "max_height": null,
            "max_width": null,
            "min_height": null,
            "min_width": null,
            "object_fit": null,
            "object_position": null,
            "order": null,
            "overflow": null,
            "overflow_x": null,
            "overflow_y": null,
            "padding": null,
            "right": null,
            "top": null,
            "visibility": null,
            "width": null
          }
        },
        "0a54bf04528c469691d6b5046128d290": {
          "model_module": "@jupyter-widgets/base",
          "model_name": "LayoutModel",
          "model_module_version": "1.2.0",
          "state": {
            "_model_module": "@jupyter-widgets/base",
            "_model_module_version": "1.2.0",
            "_model_name": "LayoutModel",
            "_view_count": null,
            "_view_module": "@jupyter-widgets/base",
            "_view_module_version": "1.2.0",
            "_view_name": "LayoutView",
            "align_content": null,
            "align_items": null,
            "align_self": null,
            "border": null,
            "bottom": null,
            "display": null,
            "flex": null,
            "flex_flow": null,
            "grid_area": null,
            "grid_auto_columns": null,
            "grid_auto_flow": null,
            "grid_auto_rows": null,
            "grid_column": null,
            "grid_gap": null,
            "grid_row": null,
            "grid_template_areas": null,
            "grid_template_columns": null,
            "grid_template_rows": null,
            "height": null,
            "justify_content": null,
            "justify_items": null,
            "left": null,
            "margin": null,
            "max_height": null,
            "max_width": null,
            "min_height": null,
            "min_width": null,
            "object_fit": null,
            "object_position": null,
            "order": null,
            "overflow": null,
            "overflow_x": null,
            "overflow_y": null,
            "padding": null,
            "right": null,
            "top": null,
            "visibility": null,
            "width": null
          }
        },
        "e0a510e3c65e4fcdab9a0ee0cf4515ff": {
          "model_module": "@jupyter-widgets/controls",
          "model_name": "DescriptionStyleModel",
          "model_module_version": "1.5.0",
          "state": {
            "_model_module": "@jupyter-widgets/controls",
            "_model_module_version": "1.5.0",
            "_model_name": "DescriptionStyleModel",
            "_view_count": null,
            "_view_module": "@jupyter-widgets/base",
            "_view_module_version": "1.2.0",
            "_view_name": "StyleView",
            "description_width": ""
          }
        },
        "4aaabc9daeed4d4e9a34b5ba25b3d5bd": {
          "model_module": "@jupyter-widgets/base",
          "model_name": "LayoutModel",
          "model_module_version": "1.2.0",
          "state": {
            "_model_module": "@jupyter-widgets/base",
            "_model_module_version": "1.2.0",
            "_model_name": "LayoutModel",
            "_view_count": null,
            "_view_module": "@jupyter-widgets/base",
            "_view_module_version": "1.2.0",
            "_view_name": "LayoutView",
            "align_content": null,
            "align_items": null,
            "align_self": null,
            "border": null,
            "bottom": null,
            "display": null,
            "flex": null,
            "flex_flow": null,
            "grid_area": null,
            "grid_auto_columns": null,
            "grid_auto_flow": null,
            "grid_auto_rows": null,
            "grid_column": null,
            "grid_gap": null,
            "grid_row": null,
            "grid_template_areas": null,
            "grid_template_columns": null,
            "grid_template_rows": null,
            "height": null,
            "justify_content": null,
            "justify_items": null,
            "left": null,
            "margin": null,
            "max_height": null,
            "max_width": null,
            "min_height": null,
            "min_width": null,
            "object_fit": null,
            "object_position": null,
            "order": null,
            "overflow": null,
            "overflow_x": null,
            "overflow_y": null,
            "padding": null,
            "right": null,
            "top": null,
            "visibility": null,
            "width": null
          }
        },
        "4978887875fe4b0ab456dc57216ba462": {
          "model_module": "@jupyter-widgets/controls",
          "model_name": "ProgressStyleModel",
          "model_module_version": "1.5.0",
          "state": {
            "_model_module": "@jupyter-widgets/controls",
            "_model_module_version": "1.5.0",
            "_model_name": "ProgressStyleModel",
            "_view_count": null,
            "_view_module": "@jupyter-widgets/base",
            "_view_module_version": "1.2.0",
            "_view_name": "StyleView",
            "bar_color": null,
            "description_width": ""
          }
        },
        "d0c2e8f38e95473d83a0f9a1d370a597": {
          "model_module": "@jupyter-widgets/base",
          "model_name": "LayoutModel",
          "model_module_version": "1.2.0",
          "state": {
            "_model_module": "@jupyter-widgets/base",
            "_model_module_version": "1.2.0",
            "_model_name": "LayoutModel",
            "_view_count": null,
            "_view_module": "@jupyter-widgets/base",
            "_view_module_version": "1.2.0",
            "_view_name": "LayoutView",
            "align_content": null,
            "align_items": null,
            "align_self": null,
            "border": null,
            "bottom": null,
            "display": null,
            "flex": null,
            "flex_flow": null,
            "grid_area": null,
            "grid_auto_columns": null,
            "grid_auto_flow": null,
            "grid_auto_rows": null,
            "grid_column": null,
            "grid_gap": null,
            "grid_row": null,
            "grid_template_areas": null,
            "grid_template_columns": null,
            "grid_template_rows": null,
            "height": null,
            "justify_content": null,
            "justify_items": null,
            "left": null,
            "margin": null,
            "max_height": null,
            "max_width": null,
            "min_height": null,
            "min_width": null,
            "object_fit": null,
            "object_position": null,
            "order": null,
            "overflow": null,
            "overflow_x": null,
            "overflow_y": null,
            "padding": null,
            "right": null,
            "top": null,
            "visibility": null,
            "width": null
          }
        },
        "6327d728a25b43cfa19830b3a79543b0": {
          "model_module": "@jupyter-widgets/controls",
          "model_name": "DescriptionStyleModel",
          "model_module_version": "1.5.0",
          "state": {
            "_model_module": "@jupyter-widgets/controls",
            "_model_module_version": "1.5.0",
            "_model_name": "DescriptionStyleModel",
            "_view_count": null,
            "_view_module": "@jupyter-widgets/base",
            "_view_module_version": "1.2.0",
            "_view_name": "StyleView",
            "description_width": ""
          }
        }
      }
    }
  },
  "cells": [
    {
      "cell_type": "code",
      "execution_count": 1,
      "metadata": {
        "colab": {
          "base_uri": "https://localhost:8080/"
        },
        "id": "xKgh6isAYuB7",
        "outputId": "d5ac0361-0194-4b11-ef08-792b1c4fea11"
      },
      "outputs": [
        {
          "output_type": "stream",
          "name": "stdout",
          "text": [
            "Reading package lists... Done\n",
            "Building dependency tree... Done\n",
            "Reading state information... Done\n",
            "Suggested packages:\n",
            "  swig3.0-examples swig3.0-doc\n",
            "The following NEW packages will be installed:\n",
            "  swig3.0\n",
            "0 upgraded, 1 newly installed, 0 to remove and 45 not upgraded.\n",
            "Need to get 1,109 kB of archives.\n",
            "After this operation, 5,555 kB of additional disk space will be used.\n",
            "Get:1 http://archive.ubuntu.com/ubuntu jammy/universe amd64 swig3.0 amd64 3.0.12-2.2ubuntu1 [1,109 kB]\n",
            "Fetched 1,109 kB in 2s (528 kB/s)\n",
            "Selecting previously unselected package swig3.0.\n",
            "(Reading database ... 123588 files and directories currently installed.)\n",
            "Preparing to unpack .../swig3.0_3.0.12-2.2ubuntu1_amd64.deb ...\n",
            "Unpacking swig3.0 (3.0.12-2.2ubuntu1) ...\n",
            "Setting up swig3.0 (3.0.12-2.2ubuntu1) ...\n",
            "Processing triggers for man-db (2.10.2-1) ...\n",
            "Collecting gymnasium\n",
            "  Downloading gymnasium-0.29.1-py3-none-any.whl.metadata (10 kB)\n",
            "Requirement already satisfied: numpy>=1.21.0 in /usr/local/lib/python3.10/dist-packages (from gymnasium) (1.26.4)\n",
            "Requirement already satisfied: cloudpickle>=1.2.0 in /usr/local/lib/python3.10/dist-packages (from gymnasium) (2.2.1)\n",
            "Requirement already satisfied: typing-extensions>=4.3.0 in /usr/local/lib/python3.10/dist-packages (from gymnasium) (4.12.2)\n",
            "Collecting farama-notifications>=0.0.1 (from gymnasium)\n",
            "  Downloading Farama_Notifications-0.0.4-py3-none-any.whl.metadata (558 bytes)\n",
            "Downloading gymnasium-0.29.1-py3-none-any.whl (953 kB)\n",
            "\u001b[2K   \u001b[90m━━━━━━━━━━━━━━━━━━━━━━━━━━━━━━━━━━━━━━━━\u001b[0m \u001b[32m953.9/953.9 kB\u001b[0m \u001b[31m9.8 MB/s\u001b[0m eta \u001b[36m0:00:00\u001b[0m\n",
            "\u001b[?25hDownloading Farama_Notifications-0.0.4-py3-none-any.whl (2.5 kB)\n",
            "Installing collected packages: farama-notifications, gymnasium\n",
            "Successfully installed farama-notifications-0.0.4 gymnasium-0.29.1\n",
            "Requirement already satisfied: gymnasium[classic-control] in /usr/local/lib/python3.10/dist-packages (0.29.1)\n",
            "Requirement already satisfied: numpy>=1.21.0 in /usr/local/lib/python3.10/dist-packages (from gymnasium[classic-control]) (1.26.4)\n",
            "Requirement already satisfied: cloudpickle>=1.2.0 in /usr/local/lib/python3.10/dist-packages (from gymnasium[classic-control]) (2.2.1)\n",
            "Requirement already satisfied: typing-extensions>=4.3.0 in /usr/local/lib/python3.10/dist-packages (from gymnasium[classic-control]) (4.12.2)\n",
            "Requirement already satisfied: farama-notifications>=0.0.1 in /usr/local/lib/python3.10/dist-packages (from gymnasium[classic-control]) (0.0.4)\n",
            "Requirement already satisfied: pygame>=2.1.3 in /usr/local/lib/python3.10/dist-packages (from gymnasium[classic-control]) (2.6.0)\n",
            "Collecting stable-baselines3[extra]\n",
            "  Downloading stable_baselines3-2.3.2-py3-none-any.whl.metadata (5.1 kB)\n",
            "Requirement already satisfied: gymnasium<0.30,>=0.28.1 in /usr/local/lib/python3.10/dist-packages (from stable-baselines3[extra]) (0.29.1)\n",
            "Requirement already satisfied: numpy>=1.20 in /usr/local/lib/python3.10/dist-packages (from stable-baselines3[extra]) (1.26.4)\n",
            "Requirement already satisfied: torch>=1.13 in /usr/local/lib/python3.10/dist-packages (from stable-baselines3[extra]) (2.3.1+cu121)\n",
            "Requirement already satisfied: cloudpickle in /usr/local/lib/python3.10/dist-packages (from stable-baselines3[extra]) (2.2.1)\n",
            "Requirement already satisfied: pandas in /usr/local/lib/python3.10/dist-packages (from stable-baselines3[extra]) (2.1.4)\n",
            "Requirement already satisfied: matplotlib in /usr/local/lib/python3.10/dist-packages (from stable-baselines3[extra]) (3.7.1)\n",
            "Requirement already satisfied: opencv-python in /usr/local/lib/python3.10/dist-packages (from stable-baselines3[extra]) (4.10.0.84)\n",
            "Requirement already satisfied: pygame in /usr/local/lib/python3.10/dist-packages (from stable-baselines3[extra]) (2.6.0)\n",
            "Requirement already satisfied: tensorboard>=2.9.1 in /usr/local/lib/python3.10/dist-packages (from stable-baselines3[extra]) (2.15.2)\n",
            "Requirement already satisfied: psutil in /usr/local/lib/python3.10/dist-packages (from stable-baselines3[extra]) (5.9.5)\n",
            "Requirement already satisfied: tqdm in /usr/local/lib/python3.10/dist-packages (from stable-baselines3[extra]) (4.66.4)\n",
            "Requirement already satisfied: rich in /usr/local/lib/python3.10/dist-packages (from stable-baselines3[extra]) (13.7.1)\n",
            "Collecting shimmy~=1.3.0 (from shimmy[atari]~=1.3.0; extra == \"extra\"->stable-baselines3[extra])\n",
            "  Downloading Shimmy-1.3.0-py3-none-any.whl.metadata (3.7 kB)\n",
            "Requirement already satisfied: pillow in /usr/local/lib/python3.10/dist-packages (from stable-baselines3[extra]) (9.4.0)\n",
            "Collecting autorom~=0.6.1 (from autorom[accept-rom-license]~=0.6.1; extra == \"extra\"->stable-baselines3[extra])\n",
            "  Downloading AutoROM-0.6.1-py3-none-any.whl.metadata (2.4 kB)\n",
            "Requirement already satisfied: click in /usr/local/lib/python3.10/dist-packages (from autorom~=0.6.1->autorom[accept-rom-license]~=0.6.1; extra == \"extra\"->stable-baselines3[extra]) (8.1.7)\n",
            "Requirement already satisfied: requests in /usr/local/lib/python3.10/dist-packages (from autorom~=0.6.1->autorom[accept-rom-license]~=0.6.1; extra == \"extra\"->stable-baselines3[extra]) (2.31.0)\n",
            "Collecting AutoROM.accept-rom-license (from autorom[accept-rom-license]~=0.6.1; extra == \"extra\"->stable-baselines3[extra])\n",
            "  Downloading AutoROM.accept-rom-license-0.6.1.tar.gz (434 kB)\n",
            "\u001b[2K     \u001b[90m━━━━━━━━━━━━━━━━━━━━━━━━━━━━━━━━━━━━━━━━\u001b[0m \u001b[32m434.7/434.7 kB\u001b[0m \u001b[31m2.4 MB/s\u001b[0m eta \u001b[36m0:00:00\u001b[0m\n",
            "\u001b[?25h  Installing build dependencies ... \u001b[?25l\u001b[?25hdone\n",
            "  Getting requirements to build wheel ... \u001b[?25l\u001b[?25hdone\n",
            "  Preparing metadata (pyproject.toml) ... \u001b[?25l\u001b[?25hdone\n",
            "Requirement already satisfied: typing-extensions>=4.3.0 in /usr/local/lib/python3.10/dist-packages (from gymnasium<0.30,>=0.28.1->stable-baselines3[extra]) (4.12.2)\n",
            "Requirement already satisfied: farama-notifications>=0.0.1 in /usr/local/lib/python3.10/dist-packages (from gymnasium<0.30,>=0.28.1->stable-baselines3[extra]) (0.0.4)\n",
            "Collecting ale-py~=0.8.1 (from shimmy[atari]~=1.3.0; extra == \"extra\"->stable-baselines3[extra])\n",
            "  Downloading ale_py-0.8.1-cp310-cp310-manylinux_2_17_x86_64.manylinux2014_x86_64.whl.metadata (8.1 kB)\n",
            "Requirement already satisfied: absl-py>=0.4 in /usr/local/lib/python3.10/dist-packages (from tensorboard>=2.9.1->stable-baselines3[extra]) (1.4.0)\n",
            "Requirement already satisfied: grpcio>=1.48.2 in /usr/local/lib/python3.10/dist-packages (from tensorboard>=2.9.1->stable-baselines3[extra]) (1.64.1)\n",
            "Requirement already satisfied: google-auth<3,>=1.6.3 in /usr/local/lib/python3.10/dist-packages (from tensorboard>=2.9.1->stable-baselines3[extra]) (2.27.0)\n",
            "Requirement already satisfied: google-auth-oauthlib<2,>=0.5 in /usr/local/lib/python3.10/dist-packages (from tensorboard>=2.9.1->stable-baselines3[extra]) (1.2.1)\n",
            "Requirement already satisfied: markdown>=2.6.8 in /usr/local/lib/python3.10/dist-packages (from tensorboard>=2.9.1->stable-baselines3[extra]) (3.6)\n",
            "Requirement already satisfied: protobuf!=4.24.0,>=3.19.6 in /usr/local/lib/python3.10/dist-packages (from tensorboard>=2.9.1->stable-baselines3[extra]) (3.20.3)\n",
            "Requirement already satisfied: setuptools>=41.0.0 in /usr/local/lib/python3.10/dist-packages (from tensorboard>=2.9.1->stable-baselines3[extra]) (71.0.4)\n",
            "Requirement already satisfied: six>1.9 in /usr/local/lib/python3.10/dist-packages (from tensorboard>=2.9.1->stable-baselines3[extra]) (1.16.0)\n",
            "Requirement already satisfied: tensorboard-data-server<0.8.0,>=0.7.0 in /usr/local/lib/python3.10/dist-packages (from tensorboard>=2.9.1->stable-baselines3[extra]) (0.7.2)\n",
            "Requirement already satisfied: werkzeug>=1.0.1 in /usr/local/lib/python3.10/dist-packages (from tensorboard>=2.9.1->stable-baselines3[extra]) (3.0.3)\n",
            "Requirement already satisfied: filelock in /usr/local/lib/python3.10/dist-packages (from torch>=1.13->stable-baselines3[extra]) (3.15.4)\n",
            "Requirement already satisfied: sympy in /usr/local/lib/python3.10/dist-packages (from torch>=1.13->stable-baselines3[extra]) (1.13.1)\n",
            "Requirement already satisfied: networkx in /usr/local/lib/python3.10/dist-packages (from torch>=1.13->stable-baselines3[extra]) (3.3)\n",
            "Requirement already satisfied: jinja2 in /usr/local/lib/python3.10/dist-packages (from torch>=1.13->stable-baselines3[extra]) (3.1.4)\n",
            "Requirement already satisfied: fsspec in /usr/local/lib/python3.10/dist-packages (from torch>=1.13->stable-baselines3[extra]) (2024.6.1)\n",
            "Collecting nvidia-cuda-nvrtc-cu12==12.1.105 (from torch>=1.13->stable-baselines3[extra])\n",
            "  Using cached nvidia_cuda_nvrtc_cu12-12.1.105-py3-none-manylinux1_x86_64.whl.metadata (1.5 kB)\n",
            "Collecting nvidia-cuda-runtime-cu12==12.1.105 (from torch>=1.13->stable-baselines3[extra])\n",
            "  Using cached nvidia_cuda_runtime_cu12-12.1.105-py3-none-manylinux1_x86_64.whl.metadata (1.5 kB)\n",
            "Collecting nvidia-cuda-cupti-cu12==12.1.105 (from torch>=1.13->stable-baselines3[extra])\n",
            "  Using cached nvidia_cuda_cupti_cu12-12.1.105-py3-none-manylinux1_x86_64.whl.metadata (1.6 kB)\n",
            "Collecting nvidia-cudnn-cu12==8.9.2.26 (from torch>=1.13->stable-baselines3[extra])\n",
            "  Using cached nvidia_cudnn_cu12-8.9.2.26-py3-none-manylinux1_x86_64.whl.metadata (1.6 kB)\n",
            "Collecting nvidia-cublas-cu12==12.1.3.1 (from torch>=1.13->stable-baselines3[extra])\n",
            "  Using cached nvidia_cublas_cu12-12.1.3.1-py3-none-manylinux1_x86_64.whl.metadata (1.5 kB)\n",
            "Collecting nvidia-cufft-cu12==11.0.2.54 (from torch>=1.13->stable-baselines3[extra])\n",
            "  Using cached nvidia_cufft_cu12-11.0.2.54-py3-none-manylinux1_x86_64.whl.metadata (1.5 kB)\n",
            "Collecting nvidia-curand-cu12==10.3.2.106 (from torch>=1.13->stable-baselines3[extra])\n",
            "  Using cached nvidia_curand_cu12-10.3.2.106-py3-none-manylinux1_x86_64.whl.metadata (1.5 kB)\n",
            "Collecting nvidia-cusolver-cu12==11.4.5.107 (from torch>=1.13->stable-baselines3[extra])\n",
            "  Using cached nvidia_cusolver_cu12-11.4.5.107-py3-none-manylinux1_x86_64.whl.metadata (1.6 kB)\n",
            "Collecting nvidia-cusparse-cu12==12.1.0.106 (from torch>=1.13->stable-baselines3[extra])\n",
            "  Using cached nvidia_cusparse_cu12-12.1.0.106-py3-none-manylinux1_x86_64.whl.metadata (1.6 kB)\n",
            "Collecting nvidia-nccl-cu12==2.20.5 (from torch>=1.13->stable-baselines3[extra])\n",
            "  Using cached nvidia_nccl_cu12-2.20.5-py3-none-manylinux2014_x86_64.whl.metadata (1.8 kB)\n",
            "Collecting nvidia-nvtx-cu12==12.1.105 (from torch>=1.13->stable-baselines3[extra])\n",
            "  Using cached nvidia_nvtx_cu12-12.1.105-py3-none-manylinux1_x86_64.whl.metadata (1.7 kB)\n",
            "Requirement already satisfied: triton==2.3.1 in /usr/local/lib/python3.10/dist-packages (from torch>=1.13->stable-baselines3[extra]) (2.3.1)\n",
            "Collecting nvidia-nvjitlink-cu12 (from nvidia-cusolver-cu12==11.4.5.107->torch>=1.13->stable-baselines3[extra])\n",
            "  Downloading nvidia_nvjitlink_cu12-12.5.82-py3-none-manylinux2014_x86_64.whl.metadata (1.5 kB)\n",
            "Requirement already satisfied: contourpy>=1.0.1 in /usr/local/lib/python3.10/dist-packages (from matplotlib->stable-baselines3[extra]) (1.2.1)\n",
            "Requirement already satisfied: cycler>=0.10 in /usr/local/lib/python3.10/dist-packages (from matplotlib->stable-baselines3[extra]) (0.12.1)\n",
            "Requirement already satisfied: fonttools>=4.22.0 in /usr/local/lib/python3.10/dist-packages (from matplotlib->stable-baselines3[extra]) (4.53.1)\n",
            "Requirement already satisfied: kiwisolver>=1.0.1 in /usr/local/lib/python3.10/dist-packages (from matplotlib->stable-baselines3[extra]) (1.4.5)\n",
            "Requirement already satisfied: packaging>=20.0 in /usr/local/lib/python3.10/dist-packages (from matplotlib->stable-baselines3[extra]) (24.1)\n",
            "Requirement already satisfied: pyparsing>=2.3.1 in /usr/local/lib/python3.10/dist-packages (from matplotlib->stable-baselines3[extra]) (3.1.2)\n",
            "Requirement already satisfied: python-dateutil>=2.7 in /usr/local/lib/python3.10/dist-packages (from matplotlib->stable-baselines3[extra]) (2.8.2)\n",
            "Requirement already satisfied: pytz>=2020.1 in /usr/local/lib/python3.10/dist-packages (from pandas->stable-baselines3[extra]) (2024.1)\n",
            "Requirement already satisfied: tzdata>=2022.1 in /usr/local/lib/python3.10/dist-packages (from pandas->stable-baselines3[extra]) (2024.1)\n",
            "Requirement already satisfied: markdown-it-py>=2.2.0 in /usr/local/lib/python3.10/dist-packages (from rich->stable-baselines3[extra]) (3.0.0)\n",
            "Requirement already satisfied: pygments<3.0.0,>=2.13.0 in /usr/local/lib/python3.10/dist-packages (from rich->stable-baselines3[extra]) (2.16.1)\n",
            "Requirement already satisfied: importlib-resources in /usr/local/lib/python3.10/dist-packages (from ale-py~=0.8.1->shimmy[atari]~=1.3.0; extra == \"extra\"->stable-baselines3[extra]) (6.4.0)\n",
            "Requirement already satisfied: cachetools<6.0,>=2.0.0 in /usr/local/lib/python3.10/dist-packages (from google-auth<3,>=1.6.3->tensorboard>=2.9.1->stable-baselines3[extra]) (5.4.0)\n",
            "Requirement already satisfied: pyasn1-modules>=0.2.1 in /usr/local/lib/python3.10/dist-packages (from google-auth<3,>=1.6.3->tensorboard>=2.9.1->stable-baselines3[extra]) (0.4.0)\n",
            "Requirement already satisfied: rsa<5,>=3.1.4 in /usr/local/lib/python3.10/dist-packages (from google-auth<3,>=1.6.3->tensorboard>=2.9.1->stable-baselines3[extra]) (4.9)\n",
            "Requirement already satisfied: requests-oauthlib>=0.7.0 in /usr/local/lib/python3.10/dist-packages (from google-auth-oauthlib<2,>=0.5->tensorboard>=2.9.1->stable-baselines3[extra]) (1.3.1)\n",
            "Requirement already satisfied: mdurl~=0.1 in /usr/local/lib/python3.10/dist-packages (from markdown-it-py>=2.2.0->rich->stable-baselines3[extra]) (0.1.2)\n",
            "Requirement already satisfied: charset-normalizer<4,>=2 in /usr/local/lib/python3.10/dist-packages (from requests->autorom~=0.6.1->autorom[accept-rom-license]~=0.6.1; extra == \"extra\"->stable-baselines3[extra]) (3.3.2)\n",
            "Requirement already satisfied: idna<4,>=2.5 in /usr/local/lib/python3.10/dist-packages (from requests->autorom~=0.6.1->autorom[accept-rom-license]~=0.6.1; extra == \"extra\"->stable-baselines3[extra]) (3.7)\n",
            "Requirement already satisfied: urllib3<3,>=1.21.1 in /usr/local/lib/python3.10/dist-packages (from requests->autorom~=0.6.1->autorom[accept-rom-license]~=0.6.1; extra == \"extra\"->stable-baselines3[extra]) (2.0.7)\n",
            "Requirement already satisfied: certifi>=2017.4.17 in /usr/local/lib/python3.10/dist-packages (from requests->autorom~=0.6.1->autorom[accept-rom-license]~=0.6.1; extra == \"extra\"->stable-baselines3[extra]) (2024.7.4)\n",
            "Requirement already satisfied: MarkupSafe>=2.1.1 in /usr/local/lib/python3.10/dist-packages (from werkzeug>=1.0.1->tensorboard>=2.9.1->stable-baselines3[extra]) (2.1.5)\n",
            "Requirement already satisfied: mpmath<1.4,>=1.1.0 in /usr/local/lib/python3.10/dist-packages (from sympy->torch>=1.13->stable-baselines3[extra]) (1.3.0)\n",
            "Requirement already satisfied: pyasn1<0.7.0,>=0.4.6 in /usr/local/lib/python3.10/dist-packages (from pyasn1-modules>=0.2.1->google-auth<3,>=1.6.3->tensorboard>=2.9.1->stable-baselines3[extra]) (0.6.0)\n",
            "Requirement already satisfied: oauthlib>=3.0.0 in /usr/local/lib/python3.10/dist-packages (from requests-oauthlib>=0.7.0->google-auth-oauthlib<2,>=0.5->tensorboard>=2.9.1->stable-baselines3[extra]) (3.2.2)\n",
            "Downloading AutoROM-0.6.1-py3-none-any.whl (9.4 kB)\n",
            "Downloading Shimmy-1.3.0-py3-none-any.whl (37 kB)\n",
            "Using cached nvidia_cublas_cu12-12.1.3.1-py3-none-manylinux1_x86_64.whl (410.6 MB)\n",
            "Using cached nvidia_cuda_cupti_cu12-12.1.105-py3-none-manylinux1_x86_64.whl (14.1 MB)\n",
            "Using cached nvidia_cuda_nvrtc_cu12-12.1.105-py3-none-manylinux1_x86_64.whl (23.7 MB)\n",
            "Using cached nvidia_cuda_runtime_cu12-12.1.105-py3-none-manylinux1_x86_64.whl (823 kB)\n",
            "Using cached nvidia_cudnn_cu12-8.9.2.26-py3-none-manylinux1_x86_64.whl (731.7 MB)\n",
            "Using cached nvidia_cufft_cu12-11.0.2.54-py3-none-manylinux1_x86_64.whl (121.6 MB)\n",
            "Using cached nvidia_curand_cu12-10.3.2.106-py3-none-manylinux1_x86_64.whl (56.5 MB)\n",
            "Using cached nvidia_cusolver_cu12-11.4.5.107-py3-none-manylinux1_x86_64.whl (124.2 MB)\n",
            "Using cached nvidia_cusparse_cu12-12.1.0.106-py3-none-manylinux1_x86_64.whl (196.0 MB)\n",
            "Using cached nvidia_nccl_cu12-2.20.5-py3-none-manylinux2014_x86_64.whl (176.2 MB)\n",
            "Using cached nvidia_nvtx_cu12-12.1.105-py3-none-manylinux1_x86_64.whl (99 kB)\n",
            "Downloading stable_baselines3-2.3.2-py3-none-any.whl (182 kB)\n",
            "\u001b[2K   \u001b[90m━━━━━━━━━━━━━━━━━━━━━━━━━━━━━━━━━━━━━━━━\u001b[0m \u001b[32m182.3/182.3 kB\u001b[0m \u001b[31m270.4 kB/s\u001b[0m eta \u001b[36m0:00:00\u001b[0m\n",
            "\u001b[?25hDownloading ale_py-0.8.1-cp310-cp310-manylinux_2_17_x86_64.manylinux2014_x86_64.whl (1.7 MB)\n",
            "\u001b[2K   \u001b[90m━━━━━━━━━━━━━━━━━━━━━━━━━━━━━━━━━━━━━━━━\u001b[0m \u001b[32m1.7/1.7 MB\u001b[0m \u001b[31m3.1 MB/s\u001b[0m eta \u001b[36m0:00:00\u001b[0m\n",
            "\u001b[?25hDownloading nvidia_nvjitlink_cu12-12.5.82-py3-none-manylinux2014_x86_64.whl (21.3 MB)\n",
            "\u001b[2K   \u001b[90m━━━━━━━━━━━━━━━━━━━━━━━━━━━━━━━━━━━━━━━━\u001b[0m \u001b[32m21.3/21.3 MB\u001b[0m \u001b[31m10.6 MB/s\u001b[0m eta \u001b[36m0:00:00\u001b[0m\n",
            "\u001b[?25hBuilding wheels for collected packages: AutoROM.accept-rom-license\n",
            "  Building wheel for AutoROM.accept-rom-license (pyproject.toml) ... \u001b[?25l\u001b[?25hdone\n",
            "  Created wheel for AutoROM.accept-rom-license: filename=AutoROM.accept_rom_license-0.6.1-py3-none-any.whl size=446662 sha256=747a8339d29d2177ed733fdd9d0b2cb7bfe6dc4b98ee065413563d2b508d69b9\n",
            "  Stored in directory: /root/.cache/pip/wheels/6b/1b/ef/a43ff1a2f1736d5711faa1ba4c1f61be1131b8899e6a057811\n",
            "Successfully built AutoROM.accept-rom-license\n",
            "Installing collected packages: nvidia-nvtx-cu12, nvidia-nvjitlink-cu12, nvidia-nccl-cu12, nvidia-curand-cu12, nvidia-cufft-cu12, nvidia-cuda-runtime-cu12, nvidia-cuda-nvrtc-cu12, nvidia-cuda-cupti-cu12, nvidia-cublas-cu12, ale-py, shimmy, nvidia-cusparse-cu12, nvidia-cudnn-cu12, AutoROM.accept-rom-license, autorom, nvidia-cusolver-cu12, stable-baselines3\n",
            "Successfully installed AutoROM.accept-rom-license-0.6.1 ale-py-0.8.1 autorom-0.6.1 nvidia-cublas-cu12-12.1.3.1 nvidia-cuda-cupti-cu12-12.1.105 nvidia-cuda-nvrtc-cu12-12.1.105 nvidia-cuda-runtime-cu12-12.1.105 nvidia-cudnn-cu12-8.9.2.26 nvidia-cufft-cu12-11.0.2.54 nvidia-curand-cu12-10.3.2.106 nvidia-cusolver-cu12-11.4.5.107 nvidia-cusparse-cu12-12.1.0.106 nvidia-nccl-cu12-2.20.5 nvidia-nvjitlink-cu12-12.5.82 nvidia-nvtx-cu12-12.1.105 shimmy-1.3.0 stable-baselines3-2.3.2\n",
            "Requirement already satisfied: huggingface_hub in /usr/local/lib/python3.10/dist-packages (0.23.5)\n",
            "Requirement already satisfied: filelock in /usr/local/lib/python3.10/dist-packages (from huggingface_hub) (3.15.4)\n",
            "Requirement already satisfied: fsspec>=2023.5.0 in /usr/local/lib/python3.10/dist-packages (from huggingface_hub) (2024.6.1)\n",
            "Requirement already satisfied: packaging>=20.9 in /usr/local/lib/python3.10/dist-packages (from huggingface_hub) (24.1)\n",
            "Requirement already satisfied: pyyaml>=5.1 in /usr/local/lib/python3.10/dist-packages (from huggingface_hub) (6.0.1)\n",
            "Requirement already satisfied: requests in /usr/local/lib/python3.10/dist-packages (from huggingface_hub) (2.31.0)\n",
            "Requirement already satisfied: tqdm>=4.42.1 in /usr/local/lib/python3.10/dist-packages (from huggingface_hub) (4.66.4)\n",
            "Requirement already satisfied: typing-extensions>=3.7.4.3 in /usr/local/lib/python3.10/dist-packages (from huggingface_hub) (4.12.2)\n",
            "Requirement already satisfied: charset-normalizer<4,>=2 in /usr/local/lib/python3.10/dist-packages (from requests->huggingface_hub) (3.3.2)\n",
            "Requirement already satisfied: idna<4,>=2.5 in /usr/local/lib/python3.10/dist-packages (from requests->huggingface_hub) (3.7)\n",
            "Requirement already satisfied: urllib3<3,>=1.21.1 in /usr/local/lib/python3.10/dist-packages (from requests->huggingface_hub) (2.0.7)\n",
            "Requirement already satisfied: certifi>=2017.4.17 in /usr/local/lib/python3.10/dist-packages (from requests->huggingface_hub) (2024.7.4)\n",
            "Collecting huggingface-sb3\n",
            "  Downloading huggingface_sb3-3.0-py3-none-any.whl.metadata (6.3 kB)\n",
            "Requirement already satisfied: huggingface-hub~=0.8 in /usr/local/lib/python3.10/dist-packages (from huggingface-sb3) (0.23.5)\n",
            "Requirement already satisfied: pyyaml~=6.0 in /usr/local/lib/python3.10/dist-packages (from huggingface-sb3) (6.0.1)\n",
            "Requirement already satisfied: wasabi in /usr/local/lib/python3.10/dist-packages (from huggingface-sb3) (1.1.3)\n",
            "Requirement already satisfied: numpy in /usr/local/lib/python3.10/dist-packages (from huggingface-sb3) (1.26.4)\n",
            "Requirement already satisfied: cloudpickle>=1.6 in /usr/local/lib/python3.10/dist-packages (from huggingface-sb3) (2.2.1)\n",
            "Requirement already satisfied: filelock in /usr/local/lib/python3.10/dist-packages (from huggingface-hub~=0.8->huggingface-sb3) (3.15.4)\n",
            "Requirement already satisfied: fsspec>=2023.5.0 in /usr/local/lib/python3.10/dist-packages (from huggingface-hub~=0.8->huggingface-sb3) (2024.6.1)\n",
            "Requirement already satisfied: packaging>=20.9 in /usr/local/lib/python3.10/dist-packages (from huggingface-hub~=0.8->huggingface-sb3) (24.1)\n",
            "Requirement already satisfied: requests in /usr/local/lib/python3.10/dist-packages (from huggingface-hub~=0.8->huggingface-sb3) (2.31.0)\n",
            "Requirement already satisfied: tqdm>=4.42.1 in /usr/local/lib/python3.10/dist-packages (from huggingface-hub~=0.8->huggingface-sb3) (4.66.4)\n",
            "Requirement already satisfied: typing-extensions>=3.7.4.3 in /usr/local/lib/python3.10/dist-packages (from huggingface-hub~=0.8->huggingface-sb3) (4.12.2)\n",
            "Requirement already satisfied: charset-normalizer<4,>=2 in /usr/local/lib/python3.10/dist-packages (from requests->huggingface-hub~=0.8->huggingface-sb3) (3.3.2)\n",
            "Requirement already satisfied: idna<4,>=2.5 in /usr/local/lib/python3.10/dist-packages (from requests->huggingface-hub~=0.8->huggingface-sb3) (3.7)\n",
            "Requirement already satisfied: urllib3<3,>=1.21.1 in /usr/local/lib/python3.10/dist-packages (from requests->huggingface-hub~=0.8->huggingface-sb3) (2.0.7)\n",
            "Requirement already satisfied: certifi>=2017.4.17 in /usr/local/lib/python3.10/dist-packages (from requests->huggingface-hub~=0.8->huggingface-sb3) (2024.7.4)\n",
            "Downloading huggingface_sb3-3.0-py3-none-any.whl (9.7 kB)\n",
            "Installing collected packages: huggingface-sb3\n",
            "Successfully installed huggingface-sb3-3.0\n",
            "Collecting river\n",
            "  Downloading river-0.21.2-cp310-cp310-manylinux_2_17_x86_64.manylinux2014_x86_64.whl.metadata (9.0 kB)\n",
            "Requirement already satisfied: numpy<2.0.0,>=1.23.0 in /usr/local/lib/python3.10/dist-packages (from river) (1.26.4)\n",
            "Requirement already satisfied: pandas<3.0,>=2.1 in /usr/local/lib/python3.10/dist-packages (from river) (2.1.4)\n",
            "Requirement already satisfied: scipy<2.0.0,>=1.12.1 in /usr/local/lib/python3.10/dist-packages (from river) (1.13.1)\n",
            "Requirement already satisfied: python-dateutil>=2.8.2 in /usr/local/lib/python3.10/dist-packages (from pandas<3.0,>=2.1->river) (2.8.2)\n",
            "Requirement already satisfied: pytz>=2020.1 in /usr/local/lib/python3.10/dist-packages (from pandas<3.0,>=2.1->river) (2024.1)\n",
            "Requirement already satisfied: tzdata>=2022.1 in /usr/local/lib/python3.10/dist-packages (from pandas<3.0,>=2.1->river) (2024.1)\n",
            "Requirement already satisfied: six>=1.5 in /usr/local/lib/python3.10/dist-packages (from python-dateutil>=2.8.2->pandas<3.0,>=2.1->river) (1.16.0)\n",
            "Downloading river-0.21.2-cp310-cp310-manylinux_2_17_x86_64.manylinux2014_x86_64.whl (3.1 MB)\n",
            "\u001b[2K   \u001b[90m━━━━━━━━━━━━━━━━━━━━━━━━━━━━━━━━━━━━━━━━\u001b[0m \u001b[32m3.1/3.1 MB\u001b[0m \u001b[31m2.8 MB/s\u001b[0m eta \u001b[36m0:00:00\u001b[0m\n",
            "\u001b[?25hInstalling collected packages: river\n",
            "Successfully installed river-0.21.2\n"
          ]
        }
      ],
      "source": [
        "!apt-get install swig3.0\n",
        "!ln -s /usr/bin/swig3.0 /usr/bin/swig\n",
        "!pip install gymnasium\n",
        "!pip install gymnasium[classic-control]\n",
        "!pip install stable-baselines3[extra]\n",
        "!pip install huggingface_hub\n",
        "!pip install huggingface-sb3\n",
        "!pip install river"
      ]
    },
    {
      "cell_type": "code",
      "source": [
        "import numpy as np\n",
        "import pandas as pd\n",
        "\n",
        "import gymnasium as gym\n",
        "\n",
        "from sklearn.metrics import r2_score\n",
        "from sklearn.metrics import mean_squared_error as mse\n",
        "from sklearn.cluster import KMeans\n",
        "\n",
        "import scipy\n",
        "from scipy.stats import norm\n",
        "\n",
        "\n",
        "from huggingface_sb3 import load_from_hub\n",
        "from stable_baselines3 import SAC\n",
        "from stable_baselines3.common.evaluation import evaluate_policy\n",
        "from stable_baselines3.common.env_util import is_wrapped\n",
        "\n",
        "import matplotlib.pyplot as plt\n",
        "from matplotlib.animation import FuncAnimation, PillowWriter\n",
        "from matplotlib.colors import LogNorm\n",
        "\n",
        "from collections import deque\n",
        "\n",
        "from typing import Tuple\n",
        "\n",
        "from river import drift"
      ],
      "metadata": {
        "id": "K0nRoOZEZSJP"
      },
      "execution_count": 2,
      "outputs": []
    },
    {
      "cell_type": "markdown",
      "source": [
        "## Load Trained Policy"
      ],
      "metadata": {
        "id": "pWFpUVLGZiU4"
      }
    },
    {
      "cell_type": "code",
      "source": [
        "checkpoint = load_from_hub(\n",
        "    repo_id = \"sb3/sac-Pendulum-v1\",\n",
        "    filename = \"sac-Pendulum-v1.zip\",\n",
        ")\n",
        "\n",
        "model = SAC.load(checkpoint)"
      ],
      "metadata": {
        "colab": {
          "base_uri": "https://localhost:8080/",
          "height": 307,
          "referenced_widgets": [
            "37f9d94327fd491b93a97580b0695cd4",
            "5474f176e82a4c70aab12f68c6aceac8",
            "aaf6f3da33ed4d23aa7618c5034ed110",
            "526df9334bc2462da7bb2eede36911dc",
            "6b4b9bbc6b6c42638c599fe9ca4cb321",
            "0a54bf04528c469691d6b5046128d290",
            "e0a510e3c65e4fcdab9a0ee0cf4515ff",
            "4aaabc9daeed4d4e9a34b5ba25b3d5bd",
            "4978887875fe4b0ab456dc57216ba462",
            "d0c2e8f38e95473d83a0f9a1d370a597",
            "6327d728a25b43cfa19830b3a79543b0"
          ]
        },
        "id": "e6NSXFMUZlaj",
        "outputId": "85aca6e5-429b-4d6f-ca33-650f32a5fa78"
      },
      "execution_count": 3,
      "outputs": [
        {
          "output_type": "stream",
          "name": "stderr",
          "text": [
            "/usr/local/lib/python3.10/dist-packages/huggingface_hub/utils/_token.py:89: UserWarning: \n",
            "The secret `HF_TOKEN` does not exist in your Colab secrets.\n",
            "To authenticate with the Hugging Face Hub, create a token in your settings tab (https://huggingface.co/settings/tokens), set it as secret in your Google Colab and restart your session.\n",
            "You will be able to reuse this secret in all of your notebooks.\n",
            "Please note that authentication is recommended but still optional to access public models or datasets.\n",
            "  warnings.warn(\n"
          ]
        },
        {
          "output_type": "display_data",
          "data": {
            "text/plain": [
              "sac-Pendulum-v1.zip:   0%|          | 0.00/3.01M [00:00<?, ?B/s]"
            ],
            "application/vnd.jupyter.widget-view+json": {
              "version_major": 2,
              "version_minor": 0,
              "model_id": "37f9d94327fd491b93a97580b0695cd4"
            }
          },
          "metadata": {}
        },
        {
          "output_type": "stream",
          "name": "stderr",
          "text": [
            "/usr/local/lib/python3.10/dist-packages/stable_baselines3/common/save_util.py:167: UserWarning: Could not deserialize object learning_rate. Consider using `custom_objects` argument to replace this object.\n",
            "Exception: 'bytes' object cannot be interpreted as an integer\n",
            "  warnings.warn(\n",
            "/usr/local/lib/python3.10/dist-packages/stable_baselines3/common/save_util.py:167: UserWarning: Could not deserialize object lr_schedule. Consider using `custom_objects` argument to replace this object.\n",
            "Exception: 'bytes' object cannot be interpreted as an integer\n",
            "  warnings.warn(\n",
            "/usr/local/lib/python3.10/dist-packages/stable_baselines3/common/vec_env/patch_gym.py:95: UserWarning: You loaded a model that was trained using OpenAI Gym. We strongly recommend transitioning to Gymnasium by saving that model again.\n",
            "  warnings.warn(\n"
          ]
        }
      ]
    },
    {
      "cell_type": "markdown",
      "source": [
        "## Create Environment"
      ],
      "metadata": {
        "id": "w6Mkl9nVaKFj"
      }
    },
    {
      "cell_type": "code",
      "source": [
        "env0 = gym.make(\"Pendulum-v1\", g=10.0) # Training Environment\n",
        "env1 = gym.make(\"Pendulum-v1\", g=10.0) # Undrifted Environment\n",
        "env2 = gym.make(\"Pendulum-v1\", g=10.5) # Drifted Environment"
      ],
      "metadata": {
        "id": "N4BIJ48waMjp"
      },
      "execution_count": 5,
      "outputs": []
    },
    {
      "cell_type": "code",
      "source": [],
      "metadata": {
        "id": "tbF22YCoSE8R"
      },
      "execution_count": null,
      "outputs": []
    },
    {
      "cell_type": "markdown",
      "source": [
        "## Evaluate Policy on Undrifted and Drifted Environments"
      ],
      "metadata": {
        "id": "w1BXNgxuNcMA"
      }
    },
    {
      "cell_type": "code",
      "source": [
        "evaluate_policy(model, env1, n_eval_episodes=500)"
      ],
      "metadata": {
        "colab": {
          "base_uri": "https://localhost:8080/"
        },
        "id": "BedCg6MO5nLU",
        "outputId": "fedbf50d-c7d1-4a02-9be1-bfd1f9034e66"
      },
      "execution_count": 6,
      "outputs": [
        {
          "output_type": "stream",
          "name": "stderr",
          "text": [
            "/usr/local/lib/python3.10/dist-packages/stable_baselines3/common/evaluation.py:67: UserWarning: Evaluation environment is not wrapped with a ``Monitor`` wrapper. This may result in reporting modified episode lengths and rewards, if other wrappers happen to modify these. Consider wrapping environment first with ``Monitor`` wrapper.\n",
            "  warnings.warn(\n"
          ]
        },
        {
          "output_type": "execute_result",
          "data": {
            "text/plain": [
              "(-145.02429038285558, 80.56888766821456)"
            ]
          },
          "metadata": {},
          "execution_count": 6
        }
      ]
    },
    {
      "cell_type": "code",
      "source": [
        "evaluate_policy(model, env2, n_eval_episodes=500)"
      ],
      "metadata": {
        "colab": {
          "base_uri": "https://localhost:8080/"
        },
        "id": "-PL88ceK7W_2",
        "outputId": "d12ac392-29a0-4049-d156-16e5ea29415a"
      },
      "execution_count": 7,
      "outputs": [
        {
          "output_type": "execute_result",
          "data": {
            "text/plain": [
              "(-141.71597472298564, 84.73014091194341)"
            ]
          },
          "metadata": {},
          "execution_count": 7
        }
      ]
    },
    {
      "cell_type": "code",
      "source": [],
      "metadata": {
        "id": "fiAmFJxmCeXN"
      },
      "execution_count": null,
      "outputs": []
    },
    {
      "cell_type": "markdown",
      "source": [
        "## Environment Drift Detection"
      ],
      "metadata": {
        "id": "st6xW_slOlIG"
      }
    },
    {
      "cell_type": "code",
      "source": [
        "rewards_production = []\n",
        "\n",
        "env1_step = 3000\n",
        "env2_step = 3000\n",
        "\n",
        "total_step = env1_step + env2_step\n",
        "\n",
        "n_past_steps_to_store = 500\n",
        "replay_buffer = deque([], maxlen=n_past_steps_to_store)\n",
        "\n",
        "\n",
        "env_current = env1\n",
        "obs_t, _ = env_current.reset() # Initialize the environment\n",
        "\n",
        "for t in range(1, total_step+1):\n",
        "\n",
        "  if t%500 == 0:\n",
        "   print(f\"step {t}\")\n",
        "\n",
        "  action_t, _state = model.predict(obs_t, deterministic=True)\n",
        "  obs_tplus1, r_tplus1, terminated, truncated, info = env_current.step(action_t)\n",
        "  replay_buffer.append([obs_t, action_t, obs_tplus1, r_tplus1, t])\n",
        "\n",
        "  rewards_production.append(r_tplus1)\n",
        "\n",
        "  done = terminated or truncated\n",
        "\n",
        "  obs_t = obs_tplus1\n",
        "\n",
        "  if done:\n",
        "    obs_t, _ = env_current.reset()\n",
        "\n",
        "  if t==env1_step: ## Environment Drift Happens\n",
        "    env_current = env2\n",
        "    obs_t, _ = env_current.reset()\n",
        "\n",
        "\n",
        "rewards_production = np.array(rewards_production)"
      ],
      "metadata": {
        "colab": {
          "base_uri": "https://localhost:8080/"
        },
        "id": "1VXr7rRF15wn",
        "outputId": "0c5159c1-7903-47fc-d0c2-f137e7873ed1"
      },
      "execution_count": 9,
      "outputs": [
        {
          "output_type": "stream",
          "name": "stdout",
          "text": [
            "step 500\n",
            "step 1000\n",
            "step 1500\n",
            "step 2000\n",
            "step 2500\n",
            "step 3000\n",
            "step 3500\n",
            "step 4000\n",
            "step 4500\n",
            "step 5000\n",
            "step 5500\n",
            "step 6000\n"
          ]
        }
      ]
    },
    {
      "cell_type": "code",
      "source": [
        "plt.plot(np.array(rewards_production))\n",
        "plt.xlabel(\"step\")\n",
        "plt.ylabel(\"Step Rewards\")\n",
        "plt.xticks(np.arange(0, 6001, 250), rotation=70)\n",
        "plt.title(\"SAC Pendulum\")\n",
        "plt.show()"
      ],
      "metadata": {
        "colab": {
          "base_uri": "https://localhost:8080/",
          "height": 496
        },
        "id": "ejp98avkMERv",
        "outputId": "16d62aa7-4bf8-48d0-e649-3c2b537261d1"
      },
      "execution_count": 11,
      "outputs": [
        {
          "output_type": "display_data",
          "data": {
            "text/plain": [
              "<Figure size 640x480 with 1 Axes>"
            ],
            "image/png": "[encoded data removed]"
          },
          "metadata": {}
        }
      ]
    },
    {
      "cell_type": "markdown",
      "source": [
        "### Environment Drift Detection with Prob-CUSUM"
      ],
      "metadata": {
        "id": "wJ-qx7r32umz"
      }
    },
    {
      "cell_type": "code",
      "source": [
        "class CusumMeanDetector():\n",
        "  def __init__(self, mu_ref, sigma_ref, obs_ref, p_limit=0.01) -> None:\n",
        "    self._mu_ref = mu_ref\n",
        "    self._sigma_ref = sigma_ref\n",
        "    self._p_limit = p_limit\n",
        "\n",
        "    self._reset(obs_ref)\n",
        "\n",
        "  def _reset(self, obs_ref) -> None:\n",
        "    self.current_t = len(obs_ref)\n",
        "    self.current_obs = obs_ref.copy()\n",
        "    #self.mu_current = self._mu_ref\n",
        "    #self.sigma_current = self._sigma_ref\n",
        "\n",
        "  def _update_data(self, y:float) -> None:\n",
        "    self.current_t += 1\n",
        "    self.current_obs.append(y)\n",
        "\n",
        "  def _get_pvalue(self, y, alternative=\"two-sided\") -> float:\n",
        "    assert alternative in {\"two-sided\", \"greater\", \"less\"}\n",
        "    pcum = scipy.stats.norm.cdf(y, loc=0., scale=1.)\n",
        "    if alternative == \"two-sided\":\n",
        "      p = 2*(1-pcum)\n",
        "    if alternative == \"greater\":\n",
        "      p = 1-pcum\n",
        "    if alternative == \"less\":\n",
        "      p = pcum\n",
        "    return p\n",
        "\n",
        "  def _check_for_changepoint(self, alternative) -> Tuple[float, bool]:\n",
        "    standardized_sum = np.sum(np.array(self.current_obs)-self._mu_ref)/(self._sigma_ref*self.current_t**0.5)\n",
        "    p = self._get_pvalue(standardized_sum, alternative)\n",
        "    return p, p < self._p_limit\n",
        "\n",
        "\n",
        "  def predict_next(self, y, alternative=\"two-sided\") -> Tuple[float, bool]:\n",
        "    self._update_data(y)\n",
        "    p, is_changepoint = self._check_for_changepoint(alternative)\n",
        "    return p, is_changepoint"
      ],
      "metadata": {
        "id": "hTnp7-rJ15o7"
      },
      "execution_count": 12,
      "outputs": []
    },
    {
      "cell_type": "code",
      "source": [],
      "metadata": {
        "id": "I__Xns32MLgN"
      },
      "execution_count": null,
      "outputs": []
    },
    {
      "cell_type": "code",
      "source": [
        "# Environment Drift Detection with CUSUM\n",
        "env0_steps = 4000\n",
        "rewards_reference = []\n",
        "p_limit = 0.05\n",
        "obs_t, _ = env0.reset()\n",
        "for t in range(env0_steps):\n",
        "  action_t, _state = model.predict(obs_t, deterministic=True)\n",
        "  obs_tplus1, r_tplus1, terminated, truncated, info = env0.step(action_t)\n",
        "  rewards_reference.append(r_tplus1)\n",
        "  done = terminated or truncated\n",
        "  obs_t = obs_tplus1\n",
        "  if done:\n",
        "    obs_t, _ = env0.reset()\n",
        "\n",
        "mu_ref = np.mean(rewards_reference)\n",
        "sigma_ref = np.std(rewards_reference, ddof=1)\n",
        "rewards_reference_window = np.random.choice(rewards_reference, size=200, replace=False).tolist()\n",
        "\n",
        "drift_detector = CusumMeanDetector(mu_ref=mu_ref,\n",
        "                                   sigma_ref=sigma_ref,\n",
        "                                   obs_ref=rewards_reference_window,\n",
        "                                   p_limit = p_limit)\n",
        "\n",
        "\n",
        "delay = 4000\n",
        "false_alarms = 0\n",
        "\n",
        "for i,val in enumerate(rewards_production):\n",
        "  #drift_detector.add_data_point(val)\n",
        "  p_value, drift_detected = drift_detector.predict_next(val, alternative=\"less\")\n",
        "  if drift_detected:\n",
        "    print(f\"Drift Detected at: {i} with value: {val}\")\n",
        "    rewards_reference_window = np.random.choice(rewards_reference, size=200, replace=False).tolist()\n",
        "    drift_detector._reset(rewards_reference_window)\n",
        "    if i < 3000:\n",
        "      false_alarms+=1\n",
        "    if i >= 3000:\n",
        "      delay = i-3000\n",
        "      break\n",
        "\n",
        "print(f\"False Positives: {false_alarms}, Delay: {delay}\")"
      ],
      "metadata": {
        "id": "cScndMSc28Pb",
        "colab": {
          "base_uri": "https://localhost:8080/"
        },
        "outputId": "61ccd3d0-08e8-4f9e-9ab0-cdec2a778b3b"
      },
      "execution_count": 13,
      "outputs": [
        {
          "output_type": "stream",
          "name": "stdout",
          "text": [
            "Drift Detected at: 6 with value: -12.192115187816922\n",
            "Drift Detected at: 223 with value: -9.224646385231297\n",
            "Drift Detected at: 841 with value: -12.255562642445819\n",
            "Drift Detected at: 1430 with value: -3.9449871177181524\n",
            "Drift Detected at: 2839 with value: -13.260585712928432\n",
            "Drift Detected at: 3827 with value: -10.190598318360438\n",
            "False Positives: 5, Delay: 827\n"
          ]
        }
      ]
    },
    {
      "cell_type": "code",
      "source": [],
      "metadata": {
        "id": "TyCOFePVbsDR"
      },
      "execution_count": null,
      "outputs": []
    },
    {
      "cell_type": "markdown",
      "source": [
        "#### Monitor Average Step Rewards"
      ],
      "metadata": {
        "id": "NfvzVKyLXOVW"
      }
    },
    {
      "cell_type": "code",
      "source": [
        "# Environment Drift Detection with CUSUM\n",
        "env0_steps = 4000\n",
        "\n",
        "episode_length = 100\n",
        "episode_deque = deque([], maxlen=episode_length)\n",
        "\n",
        "rewards_reference = []\n",
        "p_limit = 0.05\n",
        "obs_t, _ = env0.reset()\n",
        "for t in range(env0_steps):\n",
        "  action_t, _state = model.predict(obs_t, deterministic=True)\n",
        "  obs_tplus1, r_tplus1, terminated, truncated, info = env0.step(action_t)\n",
        "  episode_deque.append(r_tplus1)\n",
        "  if len(episode_deque)==episode_length:\n",
        "      rewards_reference.append(np.mean(episode_deque))\n",
        "  done = terminated or truncated\n",
        "  obs_t = obs_tplus1\n",
        "  if done:\n",
        "    obs_t, _ = env0.reset()\n",
        "\n",
        "\n",
        "\n",
        "mu_ref = np.mean(rewards_reference)\n",
        "sigma_ref = np.std(rewards_reference, ddof=1)\n",
        "rewards_reference_window = np.random.choice(rewards_reference, size=200, replace=False).tolist()\n",
        "\n",
        "drift_detector = CusumMeanDetector(mu_ref=mu_ref,\n",
        "                                   sigma_ref=sigma_ref,\n",
        "                                   obs_ref=rewards_reference_window,\n",
        "                                   p_limit = p_limit)\n",
        "\n",
        "false_alarms = 0\n",
        "delay = 4000\n",
        "\n",
        "\n",
        "for i,val in enumerate(rewards_production):\n",
        "  #drift_detector.add_data_point(val)\n",
        "  episode_deque.append(val)\n",
        "  val_avg = np.mean(episode_deque)\n",
        "  p_value, drift_detected = drift_detector.predict_next(val_avg, alternative=\"less\")\n",
        "  if drift_detected:\n",
        "    print(f\"Drift Detected at: {i} with value: {val_avg}\")\n",
        "    rewards_reference_window = np.random.choice(rewards_reference, size=200, replace=False).tolist()\n",
        "    drift_detector._reset(rewards_reference_window)\n",
        "    if i < 3000:\n",
        "      false_alarms+=1\n",
        "    if i >= 3000:\n",
        "      delay = i-3000\n",
        "      break\n",
        "\n",
        "print(f\"False Positives: {false_alarms}, Delay: {delay}\")"
      ],
      "metadata": {
        "colab": {
          "base_uri": "https://localhost:8080/"
        },
        "id": "sua1jnILbsKp",
        "outputId": "1b34b3b5-2e95-46a9-f25e-b0cf831304f9"
      },
      "execution_count": 14,
      "outputs": [
        {
          "output_type": "stream",
          "name": "stdout",
          "text": [
            "Drift Detected at: 59 with value: -1.1515449378575482\n",
            "Drift Detected at: 104 with value: -0.9148131211911505\n",
            "Drift Detected at: 267 with value: -2.370216804237627\n",
            "Drift Detected at: 272 with value: -2.3702047542748694\n",
            "Drift Detected at: 273 with value: -2.3702047683279974\n",
            "Drift Detected at: 282 with value: -2.370187335512633\n",
            "Drift Detected at: 290 with value: -2.370176678334008\n",
            "Drift Detected at: 299 with value: -2.370168473557059\n",
            "Drift Detected at: 305 with value: -1.9645820629215358\n",
            "Drift Detected at: 892 with value: -3.3712883738878974\n",
            "Drift Detected at: 896 with value: -3.371290811862867\n",
            "Drift Detected at: 904 with value: -2.9037334597615914\n",
            "Drift Detected at: 911 with value: -2.4228711781508965\n",
            "Drift Detected at: 914 with value: -2.2674364505396327\n",
            "Drift Detected at: 921 with value: -1.7125402772398892\n",
            "Drift Detected at: 1088 with value: -1.145443813870127\n",
            "Drift Detected at: 1099 with value: -1.1454375017647591\n",
            "Drift Detected at: 1100 with value: -1.1172961907158703\n",
            "Drift Detected at: 1462 with value: -2.336030272650439\n",
            "Drift Detected at: 1469 with value: -2.3360331089755992\n",
            "Drift Detected at: 1478 with value: -2.336041149402942\n",
            "Drift Detected at: 1485 with value: -2.3360443746399504\n",
            "Drift Detected at: 1498 with value: -2.336048145125148\n",
            "Drift Detected at: 1705 with value: -0.9838664400349926\n",
            "Drift Detected at: 2860 with value: -3.3115248374729047\n",
            "Drift Detected at: 2864 with value: -3.3118621258873713\n",
            "Drift Detected at: 2870 with value: -3.311871091754032\n",
            "Drift Detected at: 2875 with value: -3.311802674383551\n",
            "Drift Detected at: 2880 with value: -3.3117718290619305\n",
            "Drift Detected at: 2885 with value: -3.3117498184657443\n",
            "Drift Detected at: 2886 with value: -3.311750401385085\n",
            "Drift Detected at: 2887 with value: -3.3117440377586793\n",
            "Drift Detected at: 2895 with value: -3.3117234420444124\n",
            "Drift Detected at: 2901 with value: -3.1181910757333013\n",
            "Drift Detected at: 2907 with value: -2.626545617447684\n",
            "Drift Detected at: 2922 with value: -1.548402282942634\n",
            "Drift Detected at: 3101 with value: -1.2274745135520329\n",
            "False Positives: 36, Delay: 101\n"
          ]
        }
      ]
    },
    {
      "cell_type": "code",
      "source": [],
      "metadata": {
        "id": "JXJr9G_-f373"
      },
      "execution_count": null,
      "outputs": []
    },
    {
      "cell_type": "markdown",
      "source": [
        "### Page-Hinkley"
      ],
      "metadata": {
        "id": "KZvy5nA_NBgu"
      }
    },
    {
      "cell_type": "code",
      "source": [
        "ph = drift.PageHinkley(mode=\"down\", delta=0.005)\n",
        "\n",
        "env0_steps = 4000\n",
        "rewards_reference = []\n",
        "\n",
        "obs_t, _ = env0.reset()\n",
        "for t in range(env0_steps):\n",
        "  action_t, _state = model.predict(obs_t, deterministic=True)\n",
        "  obs_tplus1, r_tplus1, terminated, truncated, info = env0.step(action_t)\n",
        "  rewards_reference.append(r_tplus1)\n",
        "  done = terminated or truncated\n",
        "  obs_t = obs_tplus1\n",
        "  if done:\n",
        "    obs_t, _ = env0.reset()\n",
        "\n",
        "mu_ref = np.mean(rewards_reference)\n",
        "sigma_ref = np.std(rewards_reference, ddof=1)\n",
        "#rewards_reference_window = np.random.choice(rewards_reference, size=200, replace=False).tolist()\n",
        "\n",
        "\n",
        "false_alarms = 0\n",
        "delay = 4000\n",
        "\n",
        "rewards_production_norm = (rewards_production-mu_ref)/sigma_ref\n",
        "\n",
        "for i, val in enumerate(rewards_production_norm):\n",
        "  ph.update(val)\n",
        "  if ph.drift_detected and val<0:\n",
        "    print(f\"Change detected at index {i}, input value: {val}\")\n",
        "    if i<3000:\n",
        "      false_alarms+=1\n",
        "    if i>=3000:\n",
        "      delay = i-3000\n",
        "      break\n",
        "\n",
        "print(f\"False Alarms: {false_alarms}, Delay: {delay}\")"
      ],
      "metadata": {
        "colab": {
          "base_uri": "https://localhost:8080/"
        },
        "id": "2kPzRV3oNB8d",
        "outputId": "366724df-377c-4d3b-b794-fa8ee388a12b"
      },
      "execution_count": 15,
      "outputs": [
        {
          "output_type": "stream",
          "name": "stdout",
          "text": [
            "Change detected at index 222, input value: -2.6327465108275407\n",
            "Change detected at index 818, input value: -2.771526466582077\n",
            "Change detected at index 1421, input value: -2.9050668064259946\n",
            "Change detected at index 2213, input value: -2.184634962829698\n",
            "Change detected at index 2613, input value: -0.8939678532949122\n",
            "Change detected at index 2819, input value: -3.645013484760565\n",
            "Change detected at index 3821, input value: -2.031997633358909\n",
            "False Alarms: 6, Delay: 821\n"
          ]
        }
      ]
    },
    {
      "cell_type": "code",
      "source": [
        "ph = drift.PageHinkley(mode=\"down\", delta=0.005)\n",
        "\n",
        "env0_steps = 4000\n",
        "\n",
        "episode_length = 200\n",
        "episode_deque = deque([], maxlen=episode_length)\n",
        "\n",
        "rewards_reference = []\n",
        "p_limit = 0.05\n",
        "obs_t, _ = env0.reset()\n",
        "for t in range(env0_steps):\n",
        "  action_t, _state = model.predict(obs_t, deterministic=True)\n",
        "  obs_tplus1, r_tplus1, terminated, truncated, info = env0.step(action_t)\n",
        "  episode_deque.append(r_tplus1)\n",
        "  if len(episode_deque)==episode_length:\n",
        "      rewards_reference.append(np.mean(episode_deque))\n",
        "  done = terminated or truncated\n",
        "  obs_t = obs_tplus1\n",
        "  if done:\n",
        "    obs_t, _ = env0.reset()\n",
        "\n",
        "\n",
        "\n",
        "mu_ref = np.mean(rewards_reference)\n",
        "sigma_ref = np.std(rewards_reference, ddof=1)\n",
        "\n",
        "\n",
        "rewards_production_average = []\n",
        "\n",
        "for reward in rewards_production:\n",
        "  #drift_detector.add_data_point(val)\n",
        "  episode_deque.append(reward)\n",
        "  reward_average = np.mean(episode_deque)\n",
        "  rewards_production_average.append(reward_average)\n",
        "\n",
        "rewards_production_average_norm = (rewards_production_average-mu_ref)/sigma_ref\n",
        "\n",
        "false_alarms = 0\n",
        "delay = 4000\n",
        "\n",
        "for i, val in enumerate(rewards_production_average_norm):\n",
        "  ph.update(val)\n",
        "  if ph.drift_detected and val<0:\n",
        "    print(f\"Change detected at index {i}, input value: {val}\")\n",
        "    if i<3000:\n",
        "      false_alarms+=1\n",
        "    if i>=3000:\n",
        "      delay = i-3000\n",
        "      break\n",
        "\n",
        "print(f\"False Alarms: {false_alarms}, Delay: {delay}\")"
      ],
      "metadata": {
        "colab": {
          "base_uri": "https://localhost:8080/"
        },
        "id": "2lmPQr4zNCId",
        "outputId": "5a76aa88-8769-465a-9c07-cd42c443aaf9"
      },
      "execution_count": 16,
      "outputs": [
        {
          "output_type": "stream",
          "name": "stdout",
          "text": [
            "Change detected at index 268, input value: -1.3861344292705713\n",
            "Change detected at index 852, input value: -2.4302361667644345\n",
            "Change detected at index 1528, input value: -1.3502015893950365\n",
            "Change detected at index 2208, input value: -0.14588039087338642\n",
            "Change detected at index 2658, input value: -1.2375254700931808\n",
            "Change detected at index 2887, input value: -2.377145514530552\n",
            "Change detected at index 3878, input value: -1.3671850140030846\n",
            "False Alarms: 6, Delay: 878\n"
          ]
        }
      ]
    },
    {
      "cell_type": "code",
      "source": [],
      "metadata": {
        "id": "_Wp7RVezsLHV"
      },
      "execution_count": null,
      "outputs": []
    },
    {
      "cell_type": "code",
      "source": [],
      "metadata": {
        "id": "1fCUvew0NCPf"
      },
      "execution_count": null,
      "outputs": []
    },
    {
      "cell_type": "markdown",
      "source": [
        "### ADWIN"
      ],
      "metadata": {
        "id": "mDx32VR7UNzh"
      }
    },
    {
      "cell_type": "code",
      "source": [
        "adwin = drift.ADWIN()\n",
        "\n",
        "env0_steps = 4000\n",
        "rewards_reference = []\n",
        "p_limit = 0.05\n",
        "obs_t, _ = env0.reset()\n",
        "for t in range(env0_steps):\n",
        "  action_t, _state = model.predict(obs_t, deterministic=True)\n",
        "  obs_tplus1, r_tplus1, terminated, truncated, info = env0.step(action_t)\n",
        "  rewards_reference.append(r_tplus1)\n",
        "  done = terminated or truncated\n",
        "  obs_t = obs_tplus1\n",
        "  if done:\n",
        "    obs_t, _ = env0.reset()\n",
        "\n",
        "mu_ref = np.mean(rewards_reference)\n",
        "sigma_ref = np.std(rewards_reference, ddof=1)\n",
        "#rewards_reference_window = np.random.choice(rewards_reference, size=200, replace=False).tolist()\n",
        "\n",
        "\n",
        "false_alarms = 0\n",
        "delay = 4000\n",
        "\n",
        "rewards_production_norm = (rewards_production-mu_ref)/sigma_ref\n",
        "\n",
        "for i, val in enumerate(rewards_production_norm):\n",
        "  adwin.update(val)\n",
        "  if adwin.drift_detected and val<0:\n",
        "    print(f\"Change detected at index {i}, input value: {val}\")\n",
        "    if i<3000:\n",
        "      false_alarms+=1\n",
        "    if i>=3000:\n",
        "      delay = i-3000\n",
        "      break\n",
        "\n",
        "print(f\"False Alarms: {false_alarms}, Delay: {delay}\")"
      ],
      "metadata": {
        "colab": {
          "base_uri": "https://localhost:8080/"
        },
        "id": "7Pe0E35MUQdu",
        "outputId": "e3d78c7b-19a3-4430-836a-7bcc904d3e48"
      },
      "execution_count": 17,
      "outputs": [
        {
          "output_type": "stream",
          "name": "stdout",
          "text": [
            "Change detected at index 831, input value: -0.5619960838104325\n",
            "Change detected at index 2847, input value: -0.4056065962706457\n",
            "False Alarms: 2, Delay: 4000\n"
          ]
        }
      ]
    },
    {
      "cell_type": "code",
      "source": [
        "adwin = drift.ADWIN()\n",
        "\n",
        "env0_steps = 4000\n",
        "\n",
        "episode_length = 200\n",
        "episode_deque = deque([], maxlen=episode_length)\n",
        "\n",
        "rewards_reference = []\n",
        "\n",
        "obs_t, _ = env0.reset()\n",
        "for t in range(env0_steps):\n",
        "  action_t, _state = model.predict(obs_t, deterministic=True)\n",
        "  obs_tplus1, r_tplus1, terminated, truncated, info = env0.step(action_t)\n",
        "  episode_deque.append(r_tplus1)\n",
        "  if len(episode_deque)==episode_length:\n",
        "      rewards_reference.append(np.mean(episode_deque))\n",
        "  done = terminated or truncated\n",
        "  obs_t = obs_tplus1\n",
        "  if done:\n",
        "    obs_t, _ = env0.reset()\n",
        "\n",
        "\n",
        "\n",
        "mu_ref = np.mean(rewards_reference)\n",
        "sigma_ref = np.std(rewards_reference, ddof=1)\n",
        "\n",
        "\n",
        "rewards_production_average = []\n",
        "\n",
        "for reward in rewards_production:\n",
        "  #drift_detector.add_data_point(val)\n",
        "  episode_deque.append(reward)\n",
        "  reward_average = np.mean(episode_deque)\n",
        "  rewards_production_average.append(reward_average)\n",
        "\n",
        "rewards_production_average_norm = (rewards_production_average-mu_ref)/sigma_ref\n",
        "\n",
        "false_alarms = 0\n",
        "delay = 4000\n",
        "\n",
        "for i, val in enumerate(rewards_production_average_norm):\n",
        "  adwin.update(val)\n",
        "  if adwin.drift_detected and val<0:\n",
        "    print(f\"Change detected at index {i}, input value: {val}\")\n",
        "    if i<3000:\n",
        "      false_alarms+=1\n",
        "    if i>=3000:\n",
        "      delay = i-3000\n",
        "      break\n",
        "\n",
        "print(f\"False Alarms: {false_alarms}, Delay: {delay}\")"
      ],
      "metadata": {
        "colab": {
          "base_uri": "https://localhost:8080/"
        },
        "id": "KX56mU3CUQi9",
        "outputId": "db96b440-940d-4d67-8d14-2c60fa186b40"
      },
      "execution_count": 18,
      "outputs": [
        {
          "output_type": "stream",
          "name": "stdout",
          "text": [
            "Change detected at index 255, input value: -0.8852194343072142\n",
            "Change detected at index 863, input value: -1.9713089639004968\n",
            "Change detected at index 1471, input value: -0.8481715184839806\n",
            "Change detected at index 2623, input value: -0.06954825813311281\n",
            "Change detected at index 2879, input value: -1.9068997299997028\n",
            "Change detected at index 3839, input value: -0.8592098180189612\n",
            "False Alarms: 5, Delay: 839\n"
          ]
        }
      ]
    },
    {
      "cell_type": "code",
      "source": [],
      "metadata": {
        "id": "oTTIaR_bUQnz"
      },
      "execution_count": null,
      "outputs": []
    },
    {
      "cell_type": "markdown",
      "source": [
        "### KSWIN"
      ],
      "metadata": {
        "id": "0HznERKVsSuE"
      }
    },
    {
      "cell_type": "code",
      "source": [
        "kswin = drift.KSWIN()\n",
        "\n",
        "env0_steps = 4000\n",
        "rewards_reference = []\n",
        "p_limit = 0.05\n",
        "obs_t, _ = env0.reset()\n",
        "for t in range(env0_steps):\n",
        "  action_t, _state = model.predict(obs_t, deterministic=True)\n",
        "  obs_tplus1, r_tplus1, terminated, truncated, info = env0.step(action_t)\n",
        "  rewards_reference.append(r_tplus1)\n",
        "  done = terminated or truncated\n",
        "  obs_t = obs_tplus1\n",
        "  if done:\n",
        "    obs_t, _ = env0.reset()\n",
        "\n",
        "mu_ref = np.mean(rewards_reference)\n",
        "sigma_ref = np.std(rewards_reference, ddof=1)\n",
        "#rewards_reference_window = np.random.choice(rewards_reference, size=200, replace=False).tolist()\n",
        "\n",
        "\n",
        "false_alarms = 0\n",
        "delay = 4000\n",
        "\n",
        "rewards_production_norm = (rewards_production-mu_ref)/sigma_ref\n",
        "\n",
        "for i, val in enumerate(rewards_production_norm):\n",
        "  kswin.update(val)\n",
        "  if kswin.drift_detected and val<0:\n",
        "    print(f\"Change detected at index {i}, input value: {val}\")\n",
        "    if i<3000:\n",
        "      false_alarms+=1\n",
        "    if i>=3000:\n",
        "      delay = i-3000\n",
        "      break\n",
        "\n",
        "print(f\"False Alarms: {false_alarms}, Delay: {delay}\")"
      ],
      "metadata": {
        "id": "zGTrbCbWUQwO",
        "colab": {
          "base_uri": "https://localhost:8080/"
        },
        "outputId": "0d260a99-ca34-45a1-9ac0-5f06cf7b50a5"
      },
      "execution_count": 19,
      "outputs": [
        {
          "output_type": "stream",
          "name": "stdout",
          "text": [
            "Change detected at index 2007, input value: -3.992844509363353\n",
            "Change detected at index 2213, input value: -2.1199351998651985\n",
            "Change detected at index 2420, input value: -0.7557777512440396\n",
            "Change detected at index 2620, input value: -2.247222344418236\n",
            "Change detected at index 2820, input value: -4.236710212889293\n",
            "Change detected at index 3020, input value: -0.7822061076843153\n",
            "False Alarms: 5, Delay: 20\n"
          ]
        }
      ]
    },
    {
      "cell_type": "code",
      "source": [
        "kswin = drift.KSWIN()\n",
        "\n",
        "env0_steps = 4000\n",
        "\n",
        "episode_length = 200\n",
        "\n",
        "episode_deque = deque([], maxlen=episode_length)\n",
        "\n",
        "rewards_reference = []\n",
        "p_limit = 0.05\n",
        "obs_t, _ = env0.reset()\n",
        "for t in range(env0_steps):\n",
        "  action_t, _state = model.predict(obs_t, deterministic=True)\n",
        "  obs_tplus1, r_tplus1, terminated, truncated, info = env0.step(action_t)\n",
        "  episode_deque.append(r_tplus1)\n",
        "  if len(episode_deque)==episode_length:\n",
        "      rewards_reference.append(np.mean(episode_deque))\n",
        "  done = terminated or truncated\n",
        "  obs_t = obs_tplus1\n",
        "  if done:\n",
        "    obs_t, _ = env0.reset()\n",
        "\n",
        "\n",
        "\n",
        "mu_ref = np.mean(rewards_reference)\n",
        "sigma_ref = np.std(rewards_reference, ddof=1)\n",
        "\n",
        "\n",
        "rewards_production_average = []\n",
        "\n",
        "for reward in rewards_production:\n",
        "  #drift_detector.add_data_point(val)\n",
        "  episode_deque.append(reward)\n",
        "  reward_average = np.mean(episode_deque)\n",
        "  rewards_production_average.append(reward_average)\n",
        "\n",
        "rewards_production_average_norm = (rewards_production_average-mu_ref)/sigma_ref\n",
        "\n",
        "false_alarms = 0\n",
        "delay = 4000\n",
        "\n",
        "for i, val in enumerate(rewards_production_average_norm):\n",
        "  kswin.update(val)\n",
        "  if kswin.drift_detected and val<0:\n",
        "    print(f\"Change detected at index {i}, input value: {val}\")\n",
        "    if i<3000:\n",
        "      false_alarms+=1\n",
        "    if i>=3000:\n",
        "      delay = i-3000\n",
        "      break\n",
        "\n",
        "print(f\"False Alarms: {false_alarms}, Delay: {delay}\")"
      ],
      "metadata": {
        "colab": {
          "base_uri": "https://localhost:8080/"
        },
        "id": "X5p1BeW-sVTN",
        "outputId": "3bbf4056-de73-492c-9116-f87f2c97f0e8"
      },
      "execution_count": 20,
      "outputs": [
        {
          "output_type": "stream",
          "name": "stdout",
          "text": [
            "Change detected at index 299, input value: -1.3809569559722072\n",
            "Change detected at index 399, input value: -1.3809362351488759\n",
            "Change detected at index 899, input value: -2.8494210189566687\n",
            "Change detected at index 999, input value: -2.8494300133634005\n",
            "Change detected at index 1499, input value: -1.3309184274019572\n",
            "Change detected at index 1599, input value: -1.3309209805824\n",
            "Change detected at index 2699, input value: -1.1739209330497025\n",
            "Change detected at index 2799, input value: -1.173923591395015\n",
            "Change detected at index 2899, input value: -2.762023106884859\n",
            "Change detected at index 2999, input value: -2.761702431683008\n",
            "Change detected at index 3899, input value: -1.3546092924578093\n",
            "False Alarms: 10, Delay: 899\n"
          ]
        }
      ]
    },
    {
      "cell_type": "code",
      "source": [],
      "metadata": {
        "id": "dC9yPhCVsVlD"
      },
      "execution_count": null,
      "outputs": []
    }
  ]
}